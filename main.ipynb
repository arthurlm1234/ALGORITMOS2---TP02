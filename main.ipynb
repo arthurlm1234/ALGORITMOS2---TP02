{
 "cells": [
  {
   "cell_type": "code",
   "execution_count": 129,
   "metadata": {},
   "outputs": [],
   "source": [
    "import networkx as nx\n",
    "import numpy as np\n",
    "from heapq import heappush, heappop\n",
    "import time\n",
    "from memory_profiler import memory_usage\n",
    "import tsplib95"
   ]
  },
  {
   "cell_type": "markdown",
   "metadata": {},
   "source": [
    "### TWICE AROUND THE TREE"
   ]
  },
  {
   "cell_type": "code",
   "execution_count": 130,
   "metadata": {},
   "outputs": [],
   "source": [
    "def twiceAroundTheTreeTSP(A):\n",
    "    MST = nx.minimum_spanning_tree(A)\n",
    "    caminho = list(nx.dfs_preorder_nodes(MST, 0))\n",
    "    caminho.append(caminho[0])\n",
    "    peso = sum(A[caminho[i]][caminho[i + 1]]['weight'] for i in range(len(caminho) - 1))\n",
    "\n",
    "    return peso, caminho\n"
   ]
  },
  {
   "cell_type": "markdown",
   "metadata": {},
   "source": [
    "### CHRISTOFIDES"
   ]
  },
  {
   "cell_type": "code",
   "execution_count": 131,
   "metadata": {},
   "outputs": [],
   "source": [
    "def encontrarCaminhoCurto(A):\n",
    "    caminho = [x[0] for x in nx.eulerian_circuit(A, 0)]\n",
    "    return list(dict.fromkeys(caminho)) + [caminho[0]]\n",
    "\n",
    "def christofidesTSP(A):\n",
    "    MST = nx.minimum_spanning_tree(A)\n",
    "    nosImpares = [no for no, grau in nx.degree(MST) if grau % 2 == 1]\n",
    "    pareamento = nx.min_weight_matching(nx.subgraph(A, nosImpares))\n",
    "\n",
    "    MSTMultiGrafo = nx.MultiGraph(MST)\n",
    "    MSTMultiGrafo.add_edges_from((no1, no2, A[no1][no2]) for no1, no2 in pareamento)\n",
    "\n",
    "    caminho = encontrarCaminhoCurto(MSTMultiGrafo)\n",
    "    peso = sum(A[caminho[i]][caminho[i + 1]]['weight'] for i in range(len(caminho) - 1))\n",
    "\n",
    "    return peso, caminho"
   ]
  },
  {
   "cell_type": "markdown",
   "metadata": {},
   "source": [
    "#### BRANCH AND BOUND"
   ]
  },
  {
   "cell_type": "code",
   "execution_count": 132,
   "metadata": {},
   "outputs": [],
   "source": [
    "import numpy as np\n",
    "\n",
    "class No:\n",
    "    def __init__(self, limite, arestasLimite, custo, solucao):\n",
    "        self.limite = limite\n",
    "        self.arestasLimite = arestasLimite\n",
    "        self.custo = custo\n",
    "        self.solucao = solucao\n",
    "    \n",
    "    def __lt__(self, outro):\n",
    "        if len(self.solucao) == len(outro.solucao):\n",
    "            return self.limite < outro.limite\n",
    "        return len(self.solucao) > len(outro.solucao)\n",
    "\n",
    "def encontrarDuasArestasMinimas(lista):\n",
    "    min1, min2 = np.inf, np.inf\n",
    "    for j in lista:\n",
    "        peso = lista[j]['weight']\n",
    "        if peso < min1:\n",
    "            min1, min2 = peso, min1\n",
    "        elif peso < min2:\n",
    "            min2 = peso\n",
    "    return min1, min2\n",
    "\n",
    "def encontrarLimiteInicial(A):\n",
    "    limite = 0\n",
    "    arestasLimiteIniciais = np.zeros((A.number_of_nodes(), 2), dtype=list)\n",
    "    for i in range(A.number_of_nodes()):\n",
    "        min1, min2 = encontrarDuasArestasMinimas(A[i])\n",
    "        arestasLimiteIniciais[i] = [min1, min2]\n",
    "        limite += min1 + min2\n",
    "    return limite / 2, arestasLimiteIniciais\n",
    "\n",
    "def encontrarLimite(A, solucao, arestasLimite, limite):\n",
    "    arestasAlteradas = np.zeros(A.number_of_nodes(), dtype=int)\n",
    "    novasArestas = np.array(arestasLimite)\n",
    "    pesoAresta = A[solucao[-2]][solucao[-1]]['weight']\n",
    "    soma = limite * 2\n",
    "\n",
    "    for no in solucao[-2:]:\n",
    "        if novasArestas[no][0] != pesoAresta:\n",
    "            soma -= novasArestas[no][arestasAlteradas[no]]\n",
    "            soma += pesoAresta\n",
    "            arestasAlteradas[no] += 1\n",
    "\n",
    "    return soma / 2, novasArestas\n"
   ]
  },
  {
   "cell_type": "code",
   "execution_count": 133,
   "metadata": {},
   "outputs": [],
   "source": [
    "def branchAndBoundTSP(A):\n",
    "    limiteInicial, arestasLimiteIniciais = encontrarLimiteInicial(A)\n",
    "    raiz = No(limiteInicial, arestasLimiteIniciais, 0, [0])\n",
    "    heap = []\n",
    "    heappush(heap, raiz)\n",
    "    melhorCusto = np.inf\n",
    "    melhorSolucao = []\n",
    "    contadorDeNos = 0\n",
    "\n",
    "    while heap:\n",
    "        noAtual = heappop(heap)\n",
    "        contadorDeNos += 1\n",
    "        nivel = len(noAtual.solucao)\n",
    "\n",
    "        if nivel > A.number_of_nodes():\n",
    "            if melhorCusto > noAtual.custo:\n",
    "                melhorCusto = noAtual.custo\n",
    "                melhorSolucao = noAtual.solucao\n",
    "        else:\n",
    "            if noAtual.limite < melhorCusto:\n",
    "                if nivel < A.number_of_nodes() - 2:\n",
    "                    for k in range(1, A.number_of_nodes()):\n",
    "                        if k in noAtual.solucao or k == 0:\n",
    "                            continue\n",
    "                        pesoAresta = A[noAtual.solucao[-1]][k]['weight']\n",
    "                        novoLimite, novasArestas = encontrarLimite(A, noAtual.solucao + [k], noAtual.arestasLimite, noAtual.limite)\n",
    "                        if novoLimite < melhorCusto:\n",
    "                            novoNo = No(novoLimite, novasArestas, noAtual.custo + pesoAresta, noAtual.solucao + [k])\n",
    "                            heappush(heap, novoNo)\n",
    "                else:\n",
    "                    for k in range(1, A.number_of_nodes()):\n",
    "                        if k in noAtual.solucao or k == 0:\n",
    "                            continue\n",
    "                        ultimoNo = next(i for i in range(1, A.number_of_nodes()) if i not in noAtual.solucao + [k] and k != i)\n",
    "                        pesoAresta = A[noAtual.solucao[-1]][k]['weight']\n",
    "                        proxPesoAresta = A[k][ultimoNo]['weight']\n",
    "                        ultimoPesoAresta = A[ultimoNo][0]['weight']\n",
    "                        custo = noAtual.custo + pesoAresta + proxPesoAresta + ultimoPesoAresta\n",
    "                        if custo < melhorCusto:\n",
    "                            novoNo = No(custo, [], custo, noAtual.solucao + [k, ultimoNo, 0])\n",
    "                            heappush(heap, novoNo)\n",
    "\n",
    "    return melhorCusto, melhorSolucao\n"
   ]
  },
  {
   "cell_type": "markdown",
   "metadata": {},
   "source": [
    "#### Criando grafos de teste"
   ]
  },
  {
   "cell_type": "code",
   "execution_count": 134,
   "metadata": {},
   "outputs": [],
   "source": [
    "A = np.array([[0, 3, 1, 5, 8],\n",
    "    [3, 0, 6, 7, 9],\n",
    "    [1, 6, 0, 4, 2],\n",
    "    [5, 7, 4, 0, 3],\n",
    "    [8, 9, 2, 3, 0]])\n",
    "\n",
    "A = nx.from_numpy_array(np.matrix(A), create_using=nx.Graph)\n",
    "\n",
    "B = np.array([[0, 4, 8, 9, 12],\n",
    "    [4, 0, 6, 8, 9],\n",
    "    [8, 6, 0, 10, 11],\n",
    "    [9, 8, 10, 0, 7],   \n",
    "    [12, 9, 11, 7, 0]])\n",
    "\n",
    "B = nx.from_numpy_array(np.matrix(B), create_using=nx.Graph)\n",
    "\n",
    "C = nx.complete_graph(15)\n",
    "for (u, v, w) in C.edges(data=True):\n",
    "    w['weight'] = np.random.randint(1, 10)"
   ]
  },
  {
   "cell_type": "code",
   "execution_count": 135,
   "metadata": {},
   "outputs": [
    {
     "name": "stdout",
     "output_type": "stream",
     "text": [
      "Algoritmo:  twiceAroundTheTreeTSP\n",
      "Peso:  16\n",
      "Caminho:  [0, 2, 4, 3, 1, 0]\n",
      "Tempo de execução:  0.07798051834106445\n",
      "Uso de memória:  112.58984375\n",
      "\n",
      "Algoritmo:  christofidesTSP\n",
      "Peso:  38\n",
      "Caminho:  [0, 1, 3, 4, 2, 0]\n",
      "Tempo de execução:  0.06716775894165039\n",
      "Uso de memória:  112.58984375\n",
      "\n"
     ]
    },
    {
     "name": "stdout",
     "output_type": "stream",
     "text": [
      "Algoritmo:  branchAndBoundTSP\n",
      "Peso:  33\n",
      "Caminho:  [0, 4, 9, 6, 13, 10, 7, 5, 2, 11, 12, 14, 8, 1, 3, 0]\n",
      "Tempo de execução:  0.40019965171813965\n",
      "Uso de memória:  112.58984375\n",
      "\n"
     ]
    },
    {
     "data": {
      "text/plain": [
       "((33, [0, 4, 9, 6, 13, 10, 7, 5, 2, 11, 12, 14, 8, 1, 3, 0]),\n",
       " 0.40019965171813965,\n",
       " 112.58984375)"
      ]
     },
     "execution_count": 135,
     "metadata": {},
     "output_type": "execute_result"
    }
   ],
   "source": [
    "def executarAlgoritmo(algoritmo, dados):\n",
    "    tempo_inicio = time.time()\n",
    "    tempo_maximo = 30 * 60  # 30 minutos em segundos\n",
    "\n",
    "    try:\n",
    "        # Executa o algoritmo e mede o uso de memória\n",
    "        uso_memoria = memory_usage((algoritmo, (dados,)))\n",
    "        resultado = algoritmo(dados)\n",
    "        tempo_fim = time.time()\n",
    "\n",
    "        tempo_execucao = tempo_fim - tempo_inicio\n",
    "        if tempo_execucao > tempo_maximo:\n",
    "            raise TimeoutError\n",
    "        \n",
    "        print(\"Algoritmo: \", algoritmo.__name__)\n",
    "        print(\"Peso: \", resultado[0])\n",
    "        print(\"Caminho: \", resultado[1])\n",
    "        print(\"Tempo de execução: \", tempo_execucao)\n",
    "        print(\"Uso de memória: \", np.max(uso_memoria))\n",
    "        print()\n",
    "\n",
    "        return resultado, tempo_execucao, np.max(uso_memoria)\n",
    "    except TimeoutError:\n",
    "        return \"NA\", \"NA\", \"NA\"\n",
    "\n",
    "executarAlgoritmo(twiceAroundTheTreeTSP, A)\n",
    "executarAlgoritmo(christofidesTSP, B)\n",
    "executarAlgoritmo(branchAndBoundTSP, C)\n"
   ]
  },
  {
   "cell_type": "code",
   "execution_count": 136,
   "metadata": {},
   "outputs": [
    {
     "name": "stdout",
     "output_type": "stream",
     "text": [
      "Peso da solução ótima: 7542\n"
     ]
    },
    {
     "ename": "KeyError",
     "evalue": "0",
     "output_type": "error",
     "traceback": [
      "\u001b[0;31m---------------------------------------------------------------------------\u001b[0m",
      "\u001b[0;31mKeyError\u001b[0m                                  Traceback (most recent call last)",
      "\u001b[1;32m/home/arthur/ALGORITMOS2---TP02/main.ipynb Célula 12\u001b[0m line \u001b[0;36m2\n\u001b[1;32m     <a href='vscode-notebook-cell:/home/arthur/ALGORITMOS2---TP02/main.ipynb#X16sZmlsZQ%3D%3D?line=25'>26</a>\u001b[0m \u001b[39mprint\u001b[39m(\u001b[39m\"\u001b[39m\u001b[39mPeso da solução ótima:\u001b[39m\u001b[39m\"\u001b[39m, peso_solucao_optima)\n\u001b[1;32m     <a href='vscode-notebook-cell:/home/arthur/ALGORITMOS2---TP02/main.ipynb#X16sZmlsZQ%3D%3D?line=26'>27</a>\u001b[0m \u001b[39m#executarAlgoritmo(twiceAroundTheTreeTSP, grafo)\u001b[39;00m\n\u001b[1;32m     <a href='vscode-notebook-cell:/home/arthur/ALGORITMOS2---TP02/main.ipynb#X16sZmlsZQ%3D%3D?line=27'>28</a>\u001b[0m \u001b[39m#executarAlgoritmo(christofidesTSP, grafo)\u001b[39;00m\n\u001b[0;32m---> <a href='vscode-notebook-cell:/home/arthur/ALGORITMOS2---TP02/main.ipynb#X16sZmlsZQ%3D%3D?line=28'>29</a>\u001b[0m executarAlgoritmo(branchAndBoundTSP, grafo)\n",
      "\u001b[1;32m/home/arthur/ALGORITMOS2---TP02/main.ipynb Célula 12\u001b[0m line \u001b[0;36m7\n\u001b[1;32m      <a href='vscode-notebook-cell:/home/arthur/ALGORITMOS2---TP02/main.ipynb#X16sZmlsZQ%3D%3D?line=2'>3</a>\u001b[0m tempo_maximo \u001b[39m=\u001b[39m \u001b[39m30\u001b[39m \u001b[39m*\u001b[39m \u001b[39m60\u001b[39m  \u001b[39m# 30 minutos em segundos\u001b[39;00m\n\u001b[1;32m      <a href='vscode-notebook-cell:/home/arthur/ALGORITMOS2---TP02/main.ipynb#X16sZmlsZQ%3D%3D?line=4'>5</a>\u001b[0m \u001b[39mtry\u001b[39;00m:\n\u001b[1;32m      <a href='vscode-notebook-cell:/home/arthur/ALGORITMOS2---TP02/main.ipynb#X16sZmlsZQ%3D%3D?line=5'>6</a>\u001b[0m     \u001b[39m# Executa o algoritmo e mede o uso de memória\u001b[39;00m\n\u001b[0;32m----> <a href='vscode-notebook-cell:/home/arthur/ALGORITMOS2---TP02/main.ipynb#X16sZmlsZQ%3D%3D?line=6'>7</a>\u001b[0m     uso_memoria \u001b[39m=\u001b[39m memory_usage((algoritmo, (dados,)))\n\u001b[1;32m      <a href='vscode-notebook-cell:/home/arthur/ALGORITMOS2---TP02/main.ipynb#X16sZmlsZQ%3D%3D?line=7'>8</a>\u001b[0m     resultado \u001b[39m=\u001b[39m algoritmo(dados)\n\u001b[1;32m      <a href='vscode-notebook-cell:/home/arthur/ALGORITMOS2---TP02/main.ipynb#X16sZmlsZQ%3D%3D?line=8'>9</a>\u001b[0m     tempo_fim \u001b[39m=\u001b[39m time\u001b[39m.\u001b[39mtime()\n",
      "File \u001b[0;32m~/.local/lib/python3.8/site-packages/memory_profiler.py:379\u001b[0m, in \u001b[0;36mmemory_usage\u001b[0;34m(proc, interval, timeout, timestamps, include_children, multiprocess, max_usage, retval, stream, backend, max_iterations)\u001b[0m\n\u001b[1;32m    376\u001b[0m \u001b[39m# When there is an exception in the \"proc\" - the (spawned) monitoring processes don't get killed.\u001b[39;00m\n\u001b[1;32m    377\u001b[0m \u001b[39m# Therefore, the whole process hangs indefinitely. Here, we are ensuring that the process gets killed!\u001b[39;00m\n\u001b[1;32m    378\u001b[0m \u001b[39mtry\u001b[39;00m:\n\u001b[0;32m--> 379\u001b[0m     returned \u001b[39m=\u001b[39m f(\u001b[39m*\u001b[39;49margs, \u001b[39m*\u001b[39;49m\u001b[39m*\u001b[39;49mkw)\n\u001b[1;32m    380\u001b[0m     parent_conn\u001b[39m.\u001b[39msend(\u001b[39m0\u001b[39m)  \u001b[39m# finish timing\u001b[39;00m\n\u001b[1;32m    381\u001b[0m     ret \u001b[39m=\u001b[39m parent_conn\u001b[39m.\u001b[39mrecv()\n",
      "\u001b[1;32m/home/arthur/ALGORITMOS2---TP02/main.ipynb Célula 12\u001b[0m line \u001b[0;36m2\n\u001b[1;32m      <a href='vscode-notebook-cell:/home/arthur/ALGORITMOS2---TP02/main.ipynb#X16sZmlsZQ%3D%3D?line=0'>1</a>\u001b[0m \u001b[39mdef\u001b[39;00m \u001b[39mbranchAndBoundTSP\u001b[39m(A):\n\u001b[0;32m----> <a href='vscode-notebook-cell:/home/arthur/ALGORITMOS2---TP02/main.ipynb#X16sZmlsZQ%3D%3D?line=1'>2</a>\u001b[0m     limiteInicial, arestasLimiteIniciais \u001b[39m=\u001b[39m encontrarLimiteInicial(A)\n\u001b[1;32m      <a href='vscode-notebook-cell:/home/arthur/ALGORITMOS2---TP02/main.ipynb#X16sZmlsZQ%3D%3D?line=2'>3</a>\u001b[0m     raiz \u001b[39m=\u001b[39m No(limiteInicial, arestasLimiteIniciais, \u001b[39m0\u001b[39m, [\u001b[39m0\u001b[39m])\n\u001b[1;32m      <a href='vscode-notebook-cell:/home/arthur/ALGORITMOS2---TP02/main.ipynb#X16sZmlsZQ%3D%3D?line=3'>4</a>\u001b[0m     heap \u001b[39m=\u001b[39m []\n",
      "\u001b[1;32m/home/arthur/ALGORITMOS2---TP02/main.ipynb Célula 12\u001b[0m line \u001b[0;36m2\n\u001b[1;32m     <a href='vscode-notebook-cell:/home/arthur/ALGORITMOS2---TP02/main.ipynb#X16sZmlsZQ%3D%3D?line=26'>27</a>\u001b[0m arestasLimiteIniciais \u001b[39m=\u001b[39m np\u001b[39m.\u001b[39mzeros((A\u001b[39m.\u001b[39mnumber_of_nodes(), \u001b[39m2\u001b[39m), dtype\u001b[39m=\u001b[39m\u001b[39mlist\u001b[39m)\n\u001b[1;32m     <a href='vscode-notebook-cell:/home/arthur/ALGORITMOS2---TP02/main.ipynb#X16sZmlsZQ%3D%3D?line=27'>28</a>\u001b[0m \u001b[39mfor\u001b[39;00m i \u001b[39min\u001b[39;00m \u001b[39mrange\u001b[39m(A\u001b[39m.\u001b[39mnumber_of_nodes()):\n\u001b[0;32m---> <a href='vscode-notebook-cell:/home/arthur/ALGORITMOS2---TP02/main.ipynb#X16sZmlsZQ%3D%3D?line=28'>29</a>\u001b[0m     min1, min2 \u001b[39m=\u001b[39m encontrarDuasArestasMinimas(A[i])\n\u001b[1;32m     <a href='vscode-notebook-cell:/home/arthur/ALGORITMOS2---TP02/main.ipynb#X16sZmlsZQ%3D%3D?line=29'>30</a>\u001b[0m     arestasLimiteIniciais[i] \u001b[39m=\u001b[39m [min1, min2]\n\u001b[1;32m     <a href='vscode-notebook-cell:/home/arthur/ALGORITMOS2---TP02/main.ipynb#X16sZmlsZQ%3D%3D?line=30'>31</a>\u001b[0m     limite \u001b[39m+\u001b[39m\u001b[39m=\u001b[39m min1 \u001b[39m+\u001b[39m min2\n",
      "File \u001b[0;32m/usr/local/lib/python3.8/dist-packages/networkx/classes/graph.py:513\u001b[0m, in \u001b[0;36mGraph.__getitem__\u001b[0;34m(self, n)\u001b[0m\n\u001b[1;32m    489\u001b[0m \u001b[39mdef\u001b[39;00m \u001b[39m__getitem__\u001b[39m(\u001b[39mself\u001b[39m, n):\n\u001b[1;32m    490\u001b[0m \u001b[39m    \u001b[39m\u001b[39m\"\"\"Returns a dict of neighbors of node n.  Use: 'G[n]'.\u001b[39;00m\n\u001b[1;32m    491\u001b[0m \n\u001b[1;32m    492\u001b[0m \u001b[39m    Parameters\u001b[39;00m\n\u001b[0;32m   (...)\u001b[0m\n\u001b[1;32m    511\u001b[0m \u001b[39m    AtlasView({1: {}})\u001b[39;00m\n\u001b[1;32m    512\u001b[0m \u001b[39m    \"\"\"\u001b[39;00m\n\u001b[0;32m--> 513\u001b[0m     \u001b[39mreturn\u001b[39;00m \u001b[39mself\u001b[39;49m\u001b[39m.\u001b[39;49madj[n]\n",
      "File \u001b[0;32m/usr/local/lib/python3.8/dist-packages/networkx/classes/coreviews.py:81\u001b[0m, in \u001b[0;36mAdjacencyView.__getitem__\u001b[0;34m(self, name)\u001b[0m\n\u001b[1;32m     80\u001b[0m \u001b[39mdef\u001b[39;00m \u001b[39m__getitem__\u001b[39m(\u001b[39mself\u001b[39m, name):\n\u001b[0;32m---> 81\u001b[0m     \u001b[39mreturn\u001b[39;00m AtlasView(\u001b[39mself\u001b[39;49m\u001b[39m.\u001b[39;49m_atlas[name])\n",
      "\u001b[0;31mKeyError\u001b[0m: 0"
     ]
    }
   ],
   "source": [
    "def carregar_problema_tsp(caminho_arquivo):\n",
    "    problema = tsplib95.load(caminho_arquivo)\n",
    "    grafo = problema.get_graph()\n",
    "    return grafo\n",
    "\n",
    "def carregar_solucao_optima(caminho_arquivo):\n",
    "    with open(caminho_arquivo, 'r') as file:\n",
    "        linhas = file.readlines()\n",
    "        tour = [int(linha.strip()) for linha in linhas if linha.strip().isdigit()]\n",
    "    return tour\n",
    "\n",
    "def calcular_peso_solucao_optima(grafo, tour_optima):\n",
    "    peso_total = 0\n",
    "    for i in range(len(tour_optima) - 1):\n",
    "        peso_total += grafo[tour_optima[i]][tour_optima[i + 1]]['weight']\n",
    "    # Adiciona o peso para retornar ao ponto de partida\n",
    "    peso_total += grafo[tour_optima[-1]][tour_optima[0]]['weight']\n",
    "    return peso_total\n",
    "\n",
    "\n",
    "grafo = carregar_problema_tsp('datasets/berlin52.tsp')\n",
    "tour_optima = carregar_solucao_optima('datasets/berlin52.opt.tour')\n",
    "\n",
    "peso_solucao_optima = calcular_peso_solucao_optima(grafo, tour_optima)\n",
    "\n",
    "print(\"Peso da solução ótima:\", peso_solucao_optima)\n",
    "#executarAlgoritmo(twiceAroundTheTreeTSP, grafo)\n",
    "#executarAlgoritmo(christofidesTSP, grafo)\n",
    "executarAlgoritmo(branchAndBoundTSP, grafo)\n"
   ]
  }
 ],
 "metadata": {
  "kernelspec": {
   "display_name": "Python 3",
   "language": "python",
   "name": "python3"
  },
  "language_info": {
   "codemirror_mode": {
    "name": "ipython",
    "version": 3
   },
   "file_extension": ".py",
   "mimetype": "text/x-python",
   "name": "python",
   "nbconvert_exporter": "python",
   "pygments_lexer": "ipython3",
   "version": "3.8.10"
  },
  "orig_nbformat": 4
 },
 "nbformat": 4,
 "nbformat_minor": 2
}
