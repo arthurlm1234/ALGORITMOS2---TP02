{
 "cells": [
  {
   "cell_type": "code",
   "execution_count": 32,
   "metadata": {},
   "outputs": [],
   "source": [
    "import networkx as nx\n",
    "import numpy as np"
   ]
  },
  {
   "cell_type": "markdown",
   "metadata": {},
   "source": [
    "### TWICE AROUND THE TREE"
   ]
  },
  {
   "cell_type": "code",
   "execution_count": 33,
   "metadata": {},
   "outputs": [],
   "source": [
    "def calcular_peso_caminho(G, caminho):\n",
    "    peso = 0\n",
    "    for i in range(len(caminho)-1):\n",
    "        peso += G[caminho[i]][caminho[i+1]]['weight']\n",
    "    return peso\n",
    "\n",
    "def twiceAroundTheTree(G, origem):\n",
    "    T = nx.minimum_spanning_tree(G)\n",
    "    T.add_edge(origem, list(T.nodes)[0], weight=G[origem][list(T.nodes)[0]]['weight'])\n",
    "    caminho = list(nx.dfs_preorder_nodes(T, origem))\n",
    "    caminho.append(origem)\n",
    "    return caminho, calcular_peso_caminho(G, caminho)"
   ]
  },
  {
   "cell_type": "markdown",
   "metadata": {},
   "source": [
    "### CHRISTOFIDES"
   ]
  },
  {
   "cell_type": "code",
   "execution_count": 34,
   "metadata": {},
   "outputs": [],
   "source": [
    "def christofides(G, origem):\n",
    "    T = nx.minimum_spanning_tree(G)\n",
    "    T.add_edge(origem, list(T.nodes)[0], weight=G[origem][list(T.nodes)[0]]['weight'])\n",
    "    N = [v for v, d in T.degree() if d % 2 == 1]\n",
    "    M = G.subgraph(N)\n",
    "    M = nx.maximal_matching(M)\n",
    "    H = nx.MultiGraph(T)\n",
    "    for e in M.edges:\n",
    "        H.add_edge(e[0], e[1], weight=G[e[0]][e[1]]['weight'])\n",
    "    caminho = list(nx.eulerian_circuit(H))\n",
    "    caminho= [c[0] for c in caminho]\n",
    "    caminho = list(dict.fromkeys(caminho))\n",
    "    caminho.append(caminho[0])\n",
    "    return caminho, calcular_peso_caminho(G, caminho)"
   ]
  },
  {
   "cell_type": "markdown",
   "metadata": {},
   "source": [
    "#### Teste"
   ]
  },
  {
   "cell_type": "code",
   "execution_count": 38,
   "metadata": {},
   "outputs": [
    {
     "ename": "KeyError",
     "evalue": "0",
     "output_type": "error",
     "traceback": [
      "\u001b[0;31m---------------------------------------------------------------------------\u001b[0m",
      "\u001b[0;31mKeyError\u001b[0m                                  Traceback (most recent call last)",
      "\u001b[1;32m/home/arthur/ALGORITMOS2---TP02/main.ipynb Célula 7\u001b[0m line \u001b[0;36m1\n\u001b[1;32m      <a href='vscode-notebook-cell:/home/arthur/ALGORITMOS2---TP02/main.ipynb#X14sZmlsZQ%3D%3D?line=6'>7</a>\u001b[0m G \u001b[39m=\u001b[39m nx\u001b[39m.\u001b[39mfrom_numpy_array(A)\n\u001b[1;32m      <a href='vscode-notebook-cell:/home/arthur/ALGORITMOS2---TP02/main.ipynb#X14sZmlsZQ%3D%3D?line=8'>9</a>\u001b[0m \u001b[39m#caminho, peso = twiceAroundTheTree(G, 0)\u001b[39;00m\n\u001b[1;32m     <a href='vscode-notebook-cell:/home/arthur/ALGORITMOS2---TP02/main.ipynb#X14sZmlsZQ%3D%3D?line=9'>10</a>\u001b[0m \u001b[39m#print(caminho, peso)\u001b[39;00m\n\u001b[0;32m---> <a href='vscode-notebook-cell:/home/arthur/ALGORITMOS2---TP02/main.ipynb#X14sZmlsZQ%3D%3D?line=11'>12</a>\u001b[0m caminho, peso \u001b[39m=\u001b[39m christofides(G, \u001b[39m0\u001b[39;49m)\n\u001b[1;32m     <a href='vscode-notebook-cell:/home/arthur/ALGORITMOS2---TP02/main.ipynb#X14sZmlsZQ%3D%3D?line=12'>13</a>\u001b[0m \u001b[39mprint\u001b[39m(caminho, peso)\n",
      "\u001b[1;32m/home/arthur/ALGORITMOS2---TP02/main.ipynb Célula 7\u001b[0m line \u001b[0;36m3\n\u001b[1;32m      <a href='vscode-notebook-cell:/home/arthur/ALGORITMOS2---TP02/main.ipynb#X14sZmlsZQ%3D%3D?line=0'>1</a>\u001b[0m \u001b[39mdef\u001b[39;00m \u001b[39mchristofides\u001b[39m(G, origem):\n\u001b[1;32m      <a href='vscode-notebook-cell:/home/arthur/ALGORITMOS2---TP02/main.ipynb#X14sZmlsZQ%3D%3D?line=1'>2</a>\u001b[0m     T \u001b[39m=\u001b[39m nx\u001b[39m.\u001b[39mminimum_spanning_tree(G)\n\u001b[0;32m----> <a href='vscode-notebook-cell:/home/arthur/ALGORITMOS2---TP02/main.ipynb#X14sZmlsZQ%3D%3D?line=2'>3</a>\u001b[0m     T\u001b[39m.\u001b[39madd_edge(origem, \u001b[39mlist\u001b[39m(T\u001b[39m.\u001b[39mnodes)[\u001b[39m0\u001b[39m], weight\u001b[39m=\u001b[39mG[origem][\u001b[39mlist\u001b[39;49m(T\u001b[39m.\u001b[39;49mnodes)[\u001b[39m0\u001b[39;49m]][\u001b[39m'\u001b[39m\u001b[39mweight\u001b[39m\u001b[39m'\u001b[39m])\n\u001b[1;32m      <a href='vscode-notebook-cell:/home/arthur/ALGORITMOS2---TP02/main.ipynb#X14sZmlsZQ%3D%3D?line=3'>4</a>\u001b[0m     N \u001b[39m=\u001b[39m [v \u001b[39mfor\u001b[39;00m v, d \u001b[39min\u001b[39;00m T\u001b[39m.\u001b[39mdegree() \u001b[39mif\u001b[39;00m d \u001b[39m%\u001b[39m \u001b[39m2\u001b[39m \u001b[39m==\u001b[39m \u001b[39m1\u001b[39m]\n\u001b[1;32m      <a href='vscode-notebook-cell:/home/arthur/ALGORITMOS2---TP02/main.ipynb#X14sZmlsZQ%3D%3D?line=4'>5</a>\u001b[0m     M \u001b[39m=\u001b[39m G\u001b[39m.\u001b[39msubgraph(N)\n",
      "File \u001b[0;32m/usr/local/lib/python3.8/dist-packages/networkx/classes/coreviews.py:53\u001b[0m, in \u001b[0;36mAtlasView.__getitem__\u001b[0;34m(self, key)\u001b[0m\n\u001b[1;32m     52\u001b[0m \u001b[39mdef\u001b[39;00m \u001b[39m__getitem__\u001b[39m(\u001b[39mself\u001b[39m, key):\n\u001b[0;32m---> 53\u001b[0m     \u001b[39mreturn\u001b[39;00m \u001b[39mself\u001b[39;49m\u001b[39m.\u001b[39;49m_atlas[key]\n",
      "\u001b[0;31mKeyError\u001b[0m: 0"
     ]
    }
   ],
   "source": [
    "A = np.array([[0, 3, 1, 5, 8],\n",
    "    [3, 0, 6, 7, 9],\n",
    "    [1, 6, 0, 4, 2],\n",
    "    [5, 7, 4, 0, 3],\n",
    "    [8, 9, 2, 3, 0]])\n",
    "\n",
    "G = nx.from_numpy_array(A)\n",
    "\n",
    "caminho, peso = twiceAroundTheTree(G, 0)\n",
    "print(caminho, peso)\n",
    "\n",
    "caminho, peso = christofides(G, 0)\n",
    "print(caminho, peso)"
   ]
  }
 ],
 "metadata": {
  "kernelspec": {
   "display_name": "Python 3",
   "language": "python",
   "name": "python3"
  },
  "language_info": {
   "codemirror_mode": {
    "name": "ipython",
    "version": 3
   },
   "file_extension": ".py",
   "mimetype": "text/x-python",
   "name": "python",
   "nbconvert_exporter": "python",
   "pygments_lexer": "ipython3",
   "version": "3.8.10"
  },
  "orig_nbformat": 4
 },
 "nbformat": 4,
 "nbformat_minor": 2
}
