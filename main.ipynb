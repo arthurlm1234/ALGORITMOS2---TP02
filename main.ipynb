{
 "cells": [
  {
   "cell_type": "code",
   "execution_count": 116,
   "metadata": {},
   "outputs": [],
   "source": [
    "import networkx as nx\n",
    "import numpy as np\n",
    "from heapq import heappush, heappop\n",
    "import time\n",
    "from memory_profiler import memory_usage\n",
    "import tsplib95"
   ]
  },
  {
   "cell_type": "markdown",
   "metadata": {},
   "source": [
    "### TWICE AROUND THE TREE"
   ]
  },
  {
   "cell_type": "code",
   "execution_count": 117,
   "metadata": {},
   "outputs": [],
   "source": [
    "def twiceAroundTheTreeTSP(A):\n",
    "    MST = nx.minimum_spanning_tree(A)\n",
    "    caminho = list(nx.dfs_preorder_nodes(MST, 0))\n",
    "    caminho.append(caminho[0])\n",
    "    peso = sum(A[caminho[i]][caminho[i + 1]]['weight'] for i in range(len(caminho) - 1))\n",
    "\n",
    "    return peso, caminho\n"
   ]
  },
  {
   "cell_type": "markdown",
   "metadata": {},
   "source": [
    "### CHRISTOFIDES"
   ]
  },
  {
   "cell_type": "code",
   "execution_count": 118,
   "metadata": {},
   "outputs": [],
   "source": [
    "def encontrarCaminhoCurto(A):\n",
    "    caminho = [x[0] for x in nx.eulerian_circuit(A, 0)]\n",
    "    return list(dict.fromkeys(caminho)) + [caminho[0]]\n",
    "\n",
    "def christofidesTSP(A):\n",
    "    MST = nx.minimum_spanning_tree(A)\n",
    "    nosImpares = [no for no, grau in nx.degree(MST) if grau % 2 == 1]\n",
    "    pareamento = nx.min_weight_matching(nx.subgraph(A, nosImpares))\n",
    "\n",
    "    MSTMultiGrafo = nx.MultiGraph(MST)\n",
    "    MSTMultiGrafo.add_edges_from((no1, no2, A[no1][no2]) for no1, no2 in pareamento)\n",
    "\n",
    "    caminho = encontrarCaminhoCurto(MSTMultiGrafo)\n",
    "    peso = sum(A[caminho[i]][caminho[i + 1]]['weight'] for i in range(len(caminho) - 1))\n",
    "\n",
    "    return peso, caminho"
   ]
  },
  {
   "cell_type": "markdown",
   "metadata": {},
   "source": [
    "#### BRANCH AND BOUND"
   ]
  },
  {
   "cell_type": "code",
   "execution_count": 119,
   "metadata": {},
   "outputs": [],
   "source": [
    "import numpy as np\n",
    "\n",
    "class No:\n",
    "    def __init__(self, limite, arestasLimite, custo, solucao):\n",
    "        self.limite = limite\n",
    "        self.arestasLimite = arestasLimite\n",
    "        self.custo = custo\n",
    "        self.solucao = solucao\n",
    "    \n",
    "    def __lt__(self, outro):\n",
    "        if len(self.solucao) == len(outro.solucao):\n",
    "            return self.limite < outro.limite\n",
    "        return len(self.solucao) > len(outro.solucao)\n",
    "\n",
    "def encontrarDuasArestasMinimas(lista):\n",
    "    min1, min2 = np.inf, np.inf\n",
    "    for j in lista:\n",
    "        peso = lista[j]['weight']\n",
    "        if peso < min1:\n",
    "            min1, min2 = peso, min1\n",
    "        elif peso < min2:\n",
    "            min2 = peso\n",
    "    return min1, min2\n",
    "\n",
    "def encontrarLimiteInicial(A):\n",
    "    limite = 0\n",
    "    arestasLimiteIniciais = np.zeros((A.number_of_nodes(), 2), dtype=list)\n",
    "    for i in range(A.number_of_nodes()):\n",
    "        min1, min2 = encontrarDuasArestasMinimas(A[i])\n",
    "        arestasLimiteIniciais[i] = [min1, min2]\n",
    "        limite += min1 + min2\n",
    "    return limite / 2, arestasLimiteIniciais\n",
    "\n",
    "def encontrarLimite(A, solucao, arestasLimite, limite):\n",
    "    arestasAlteradas = np.zeros(A.number_of_nodes(), dtype=int)\n",
    "    novasArestas = np.array(arestasLimite)\n",
    "    pesoAresta = A[solucao[-2]][solucao[-1]]['weight']\n",
    "    soma = limite * 2\n",
    "\n",
    "    for no in solucao[-2:]:\n",
    "        if novasArestas[no][0] != pesoAresta:\n",
    "            soma -= novasArestas[no][arestasAlteradas[no]]\n",
    "            soma += pesoAresta\n",
    "            arestasAlteradas[no] += 1\n",
    "\n",
    "    return soma / 2, novasArestas\n"
   ]
  },
  {
   "cell_type": "code",
   "execution_count": 120,
   "metadata": {},
   "outputs": [],
   "source": [
    "def branchAndBoundTSP(A):\n",
    "    limiteInicial, arestasLimiteIniciais = encontrarLimiteInicial(A)\n",
    "    raiz = No(limiteInicial, arestasLimiteIniciais, 0, [0])\n",
    "    heap = []\n",
    "    heappush(heap, raiz)\n",
    "    melhorCusto = np.inf\n",
    "    melhorSolucao = []\n",
    "    contadorDeNos = 0\n",
    "\n",
    "    while heap:\n",
    "        noAtual = heappop(heap)\n",
    "        contadorDeNos += 1\n",
    "        nivel = len(noAtual.solucao)\n",
    "\n",
    "        if nivel > A.number_of_nodes():\n",
    "            if melhorCusto > noAtual.custo:\n",
    "                melhorCusto = noAtual.custo\n",
    "                melhorSolucao = noAtual.solucao\n",
    "        else:\n",
    "            if noAtual.limite < melhorCusto:\n",
    "                if nivel < A.number_of_nodes() - 2:\n",
    "                    for k in range(1, A.number_of_nodes()):\n",
    "                        if k in noAtual.solucao or k == 0:\n",
    "                            continue\n",
    "                        pesoAresta = A[noAtual.solucao[-1]][k]['weight']\n",
    "                        novoLimite, novasArestas = encontrarLimite(A, noAtual.solucao + [k], noAtual.arestasLimite, noAtual.limite)\n",
    "                        if novoLimite < melhorCusto:\n",
    "                            novoNo = No(novoLimite, novasArestas, noAtual.custo + pesoAresta, noAtual.solucao + [k])\n",
    "                            heappush(heap, novoNo)\n",
    "                else:\n",
    "                    for k in range(1, A.number_of_nodes()):\n",
    "                        if k in noAtual.solucao or k == 0:\n",
    "                            continue\n",
    "                        ultimoNo = next(i for i in range(1, A.number_of_nodes()) if i not in noAtual.solucao + [k] and k != i)\n",
    "                        pesoAresta = A[noAtual.solucao[-1]][k]['weight']\n",
    "                        proxPesoAresta = A[k][ultimoNo]['weight']\n",
    "                        ultimoPesoAresta = A[ultimoNo][0]['weight']\n",
    "                        custo = noAtual.custo + pesoAresta + proxPesoAresta + ultimoPesoAresta\n",
    "                        if custo < melhorCusto:\n",
    "                            novoNo = No(custo, [], custo, noAtual.solucao + [k, ultimoNo, 0])\n",
    "                            heappush(heap, novoNo)\n",
    "\n",
    "    return melhorCusto, melhorSolucao\n"
   ]
  },
  {
   "cell_type": "markdown",
   "metadata": {},
   "source": [
    "#### Criando grafos de teste"
   ]
  },
  {
   "cell_type": "code",
   "execution_count": 121,
   "metadata": {},
   "outputs": [],
   "source": [
    "A = np.array([[0, 3, 1, 5, 8],\n",
    "    [3, 0, 6, 7, 9],\n",
    "    [1, 6, 0, 4, 2],\n",
    "    [5, 7, 4, 0, 3],\n",
    "    [8, 9, 2, 3, 0]])\n",
    "\n",
    "A = nx.from_numpy_array(np.matrix(A), create_using=nx.Graph)\n",
    "\n",
    "B = np.array([[0, 4, 8, 9, 12],\n",
    "    [4, 0, 6, 8, 9],\n",
    "    [8, 6, 0, 10, 11],\n",
    "    [9, 8, 10, 0, 7],   \n",
    "    [12, 9, 11, 7, 0]])\n",
    "\n",
    "B = nx.from_numpy_array(np.matrix(B), create_using=nx.Graph)\n",
    "\n",
    "C = nx.complete_graph(15)\n",
    "for (u, v, w) in C.edges(data=True):\n",
    "    w['weight'] = np.random.randint(1, 10)"
   ]
  },
  {
   "cell_type": "code",
   "execution_count": 122,
   "metadata": {},
   "outputs": [
    {
     "name": "stdout",
     "output_type": "stream",
     "text": [
      "Algoritmo:  twiceAroundTheTreeTSP\n",
      "Peso:  16\n",
      "Caminho:  [0, 2, 4, 3, 1, 0]\n",
      "Tempo de execução:  0.07774972915649414\n",
      "Uso de memória:  107.22265625\n",
      "\n",
      "Algoritmo:  christofidesTSP\n",
      "Peso:  38\n",
      "Caminho:  [0, 1, 3, 4, 2, 0]\n",
      "Tempo de execução:  0.05870676040649414\n",
      "Uso de memória:  107.22265625\n",
      "\n"
     ]
    },
    {
     "name": "stdout",
     "output_type": "stream",
     "text": [
      "Algoritmo:  branchAndBoundTSP\n",
      "Peso:  24\n",
      "Caminho:  [0, 3, 7, 13, 4, 6, 11, 10, 14, 5, 2, 9, 1, 12, 8, 0]\n",
      "Tempo de execução:  0.5386049747467041\n",
      "Uso de memória:  107.22265625\n",
      "\n"
     ]
    },
    {
     "data": {
      "text/plain": [
       "((24, [0, 3, 7, 13, 4, 6, 11, 10, 14, 5, 2, 9, 1, 12, 8, 0]),\n",
       " 0.5386049747467041,\n",
       " 107.22265625)"
      ]
     },
     "execution_count": 122,
     "metadata": {},
     "output_type": "execute_result"
    }
   ],
   "source": [
    "def executarAlgoritmo(algoritmo, dados):\n",
    "    tempo_inicio = time.time()\n",
    "    tempo_maximo = 30 * 60  # 30 minutos em segundos\n",
    "\n",
    "    try:\n",
    "        # Executa o algoritmo e mede o uso de memória\n",
    "        uso_memoria = memory_usage((algoritmo, (dados,)))\n",
    "        resultado = algoritmo(dados)\n",
    "        tempo_fim = time.time()\n",
    "\n",
    "        tempo_execucao = tempo_fim - tempo_inicio\n",
    "        if tempo_execucao > tempo_maximo:\n",
    "            raise TimeoutError\n",
    "        \n",
    "        print(\"Algoritmo: \", algoritmo.__name__)\n",
    "        print(\"Peso: \", resultado[0])\n",
    "        print(\"Caminho: \", resultado[1])\n",
    "        print(\"Tempo de execução: \", tempo_execucao)\n",
    "        print(\"Uso de memória: \", np.max(uso_memoria))\n",
    "        print()\n",
    "\n",
    "        return resultado, tempo_execucao, np.max(uso_memoria)\n",
    "    except TimeoutError:\n",
    "        return \"NA\", \"NA\", \"NA\"\n",
    "\n",
    "executarAlgoritmo(twiceAroundTheTreeTSP, A)\n",
    "executarAlgoritmo(christofidesTSP, B)\n",
    "executarAlgoritmo(branchAndBoundTSP, C)\n"
   ]
  }
 ],
 "metadata": {
  "kernelspec": {
   "display_name": "Python 3",
   "language": "python",
   "name": "python3"
  },
  "language_info": {
   "codemirror_mode": {
    "name": "ipython",
    "version": 3
   },
   "file_extension": ".py",
   "mimetype": "text/x-python",
   "name": "python",
   "nbconvert_exporter": "python",
   "pygments_lexer": "ipython3",
   "version": "3.8.10"
  },
  "orig_nbformat": 4
 },
 "nbformat": 4,
 "nbformat_minor": 2
}
