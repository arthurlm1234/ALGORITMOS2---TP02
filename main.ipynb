{
 "cells": [
  {
   "cell_type": "code",
   "execution_count": 38,
   "metadata": {},
   "outputs": [],
   "source": [
    "import networkx as nx\n",
    "import numpy as np"
   ]
  },
  {
   "cell_type": "markdown",
   "metadata": {},
   "source": [
    "### TWICE AROUND THE TREE"
   ]
  },
  {
   "cell_type": "code",
   "execution_count": 39,
   "metadata": {},
   "outputs": [],
   "source": [
    "def findPathWeight(A, path):\n",
    "    weight = 0\n",
    "    for i in range(len(path) - 1):\n",
    "        weight += A[path[i]][path[i + 1]]['weight']\n",
    "    return weight\n",
    "\n",
    "def twiceAroundTheTreeTSP(A):\n",
    "    MST = nx.minimum_spanning_tree(A)\n",
    "    path = nx.dfs_preorder_nodes(MST, 0)\n",
    "    path = list(path)\n",
    "    path.append(path[0])\n",
    "    weight = findPathWeight(A, path)\n",
    "    return weight, path"
   ]
  },
  {
   "cell_type": "markdown",
   "metadata": {},
   "source": [
    "### CHRISTOFIDES"
   ]
  },
  {
   "cell_type": "code",
   "execution_count": 40,
   "metadata": {},
   "outputs": [],
   "source": [
    "def findShortcutPath(A):\n",
    "    path = list(nx.eulerian_circuit(A, 0))\n",
    "    path = [x[0] for x in path]\n",
    "\n",
    "    # remove duplicates\n",
    "    shortcutPath = list(dict.fromkeys(path))\n",
    "    \n",
    "    return shortcutPath + [shortcutPath[0]]\n",
    "\n",
    "def christofidesTSP(A):\n",
    "    MST = nx.minimum_spanning_tree(A)\n",
    "    degrees = nx.degree(MST)\n",
    "    oddNodes = [x[0] for x in degrees if degrees[x[0]] % 2 == 1]\n",
    "    oddNodesSubgraph = nx.subgraph(A, oddNodes)\n",
    "    matching = list(nx.min_weight_matching(oddNodesSubgraph))\n",
    "\n",
    "    MSTMultiGraph = nx.MultiGraph(MST)\n",
    "    for i in range(len(matching)):\n",
    "        node1 = matching[i][0]\n",
    "        node2 = matching[i][1]\n",
    "        MSTMultiGraph.add_edge(node1, node2, weight=A[node1][node2]['weight'])\n",
    "\n",
    "    path = findShortcutPath(MSTMultiGraph)\n",
    "    weight = findPathWeight(A, path)\n",
    "\n",
    "    return weight, path"
   ]
  },
  {
   "cell_type": "markdown",
   "metadata": {},
   "source": [
    "#### BRANCH AND BOUND"
   ]
  },
  {
   "cell_type": "code",
   "execution_count": 41,
   "metadata": {},
   "outputs": [],
   "source": [
    "class Node:\n",
    "    def __init__(self, bound, boundEdges, cost, solution):\n",
    "        self.bound = bound\n",
    "        self.boundEdges = boundEdges\n",
    "        self.cost = cost\n",
    "        self.solution = solution\n",
    "    \n",
    "    def __lt__(self, other):\n",
    "        if len(self.solution) == len(other.solution):\n",
    "            return self.bound < other.bound\n",
    "        return len(self.solution) > len(other.solution)\n",
    "\n",
    "def findTwoMinimalEdges(list):\n",
    "    min1 = np.inf\n",
    "    min2 = np.inf\n",
    "    for j in list:\n",
    "        if list[j]['weight'] < min1:\n",
    "            min2 = min1\n",
    "            min1 = list[j]['weight']\n",
    "        elif list[j]['weight'] < min2:\n",
    "            min2 = list[j]['weight']\n",
    "    return min1, min2\n",
    "\n",
    "def findInitialBound(A):\n",
    "    bound = 0\n",
    "    initialBoundEdges = np.zeros((A.number_of_nodes(), 2), dtype=list)\n",
    "    for i in range(A.number_of_nodes()):\n",
    "        min1, min2 = findTwoMinimalEdges(A[i])\n",
    "        initialBoundEdges[i][0] = min1\n",
    "        initialBoundEdges[i][1] = min2\n",
    "        bound += min1 + min2\n",
    "    return bound / 2, initialBoundEdges\n",
    "\n",
    "def findBound(A, solution, boundEdges, bound):\n",
    "    changedEdges = np.zeros(A.number_of_nodes(), dtype=int)\n",
    "    newEdges = np.array(boundEdges)\n",
    "    edgeWeight = A[solution[-2]][solution[-1]]['weight']\n",
    "    sum = bound * 2\n",
    "    if newEdges[solution[-2]][0] != edgeWeight:\n",
    "        if changedEdges[solution[-2]] == 0:\n",
    "            sum -= newEdges[solution[-2]][1]\n",
    "            sum += edgeWeight\n",
    "        else:\n",
    "            sum -= newEdges[solution[-2]][0]\n",
    "            sum += edgeWeight\n",
    "        changedEdges[solution[-2]] += 1\n",
    "    if newEdges[solution[-1]][0] != edgeWeight:\n",
    "        if changedEdges[solution[-1]] == 0:\n",
    "            sum -= newEdges[solution[-1]][1]\n",
    "            sum += edgeWeight\n",
    "        else:\n",
    "            sum -= newEdges[solution[-1]][0]\n",
    "            sum += edgeWeight\n",
    "        changedEdges[solution[-1]] += 1\n",
    "    return sum / 2, newEdges"
   ]
  },
  {
   "cell_type": "code",
   "execution_count": 42,
   "metadata": {},
   "outputs": [],
   "source": [
    "from heapq import heappush, heappop\n",
    "\n",
    "def branchAndBoundTSP(A):\n",
    "    initialBound, initialBoundEdges = findInitialBound(A)\n",
    "    root = Node(initialBound, initialBoundEdges, 0, [0])\n",
    "    heap = []\n",
    "    heappush(heap, root)\n",
    "    best = np.inf\n",
    "    solution = []\n",
    "    nodeCount = 0\n",
    "    while heap:\n",
    "        node = heappop(heap)\n",
    "        nodeCount += 1\n",
    "        level = len(node.solution)\n",
    "        if level > A.number_of_nodes():\n",
    "            if best > node.cost:\n",
    "                best = node.cost\n",
    "                solution = node.solution\n",
    "        else:\n",
    "            if node.bound < best:\n",
    "                if level < A.number_of_nodes() - 2:\n",
    "                    for k in range(1, A.number_of_nodes()):\n",
    "                        if k == node.solution[-1] or k == 0:\n",
    "                            continue\n",
    "                        edgeWeight = A[node.solution[-1]][k]['weight']\n",
    "                        newBound, newEdges = findBound(A, node.solution + [k], node.boundEdges, node.bound) \n",
    "                        if k not in node.solution and newBound < best:\n",
    "                            newNode = Node(newBound, newEdges, node.cost + edgeWeight, node.solution + [k])\n",
    "                            if k == 2:\n",
    "                                if 1 not in node.solution:  \n",
    "                                    continue \n",
    "                            heappush(heap, newNode)\n",
    "                else:\n",
    "                    for k in range(1, A.number_of_nodes()):\n",
    "                        if k == node.solution[-1] or k == 0:\n",
    "                            continue\n",
    "                        lastNode = 0\n",
    "                        for i in range(1, A.number_of_nodes()):\n",
    "                            if i not in node.solution + [k] and k != i:\n",
    "                                lastNode = i\n",
    "                                break\n",
    "                        edgeWeight = A[node.solution[-1]][k]['weight']\n",
    "                        nextEdgeWeight = A[k][lastNode]['weight']\n",
    "                        lastEdgeWeight = A[lastNode][0]['weight']\n",
    "                        cost = node.cost + edgeWeight + nextEdgeWeight + lastEdgeWeight\n",
    "                        if k not in node.solution and cost < best:\n",
    "                            newNode = Node(cost, [], cost, node.solution + [k, lastNode, 0])\n",
    "                            heappush(heap, newNode)\n",
    "    return best, solution\n",
    "\n"
   ]
  },
  {
   "cell_type": "markdown",
   "metadata": {},
   "source": [
    "#### Teste"
   ]
  },
  {
   "cell_type": "code",
   "execution_count": 43,
   "metadata": {},
   "outputs": [
    {
     "name": "stdout",
     "output_type": "stream",
     "text": [
      "Twice Around the Tree TSP\n",
      "Path:  16\n",
      "Weight:  [0, 2, 4, 3, 1, 0]\n",
      "\n",
      "Christofides TSP\n",
      "Path:  16\n",
      "Weight:  [0, 1, 3, 4, 2, 0]\n",
      "\n"
     ]
    }
   ],
   "source": [
    "A = np.array([[0, 3, 1, 5, 8],\n",
    "    [3, 0, 6, 7, 9],\n",
    "    [1, 6, 0, 4, 2],\n",
    "    [5, 7, 4, 0, 3],\n",
    "    [8, 9, 2, 3, 0]])\n",
    "\n",
    "A = nx.from_numpy_array(np.matrix(A), create_using=nx.Graph)\n",
    "\n",
    "path, weight = twiceAroundTheTreeTSP(A)\n",
    "print(\"Twice Around the Tree TSP\")\n",
    "print(\"Path: \", path)\n",
    "print(\"Weight: \", weight)\n",
    "print()\n",
    "\n",
    "path, weight = christofidesTSP(A)\n",
    "print(\"Christofides TSP\")\n",
    "print(\"Path: \", path)\n",
    "print(\"Weight: \", weight)\n",
    "print()\n",
    "\n",
    "path, weight = branchAndBoundTSP(A)\n",
    "#print(\"Branch and Bound TSP\")\n",
    "#print(\"Path: \", path)\n",
    "#print(\"Weight: \", weight)\n",
    "#print()\n"
   ]
  },
  {
   "cell_type": "code",
   "execution_count": 44,
   "metadata": {},
   "outputs": [
    {
     "name": "stdout",
     "output_type": "stream",
     "text": [
      "Twice Around the Tree TSP\n",
      "Path:  39\n",
      "Weight:  [0, 1, 2, 3, 4, 0]\n",
      "\n",
      "Christofides TSP\n",
      "Path:  38\n",
      "Weight:  [0, 1, 3, 4, 2, 0]\n",
      "\n",
      "Branch and Bound TSP\n",
      "Path:  37\n",
      "Weight:  [0, 1, 2, 4, 3, 0]\n"
     ]
    }
   ],
   "source": [
    "G = np.array([[0, 4, 8, 9, 12],\n",
    "    [4, 0, 6, 8, 9],\n",
    "    [8, 6, 0, 10, 11],\n",
    "    [9, 8, 10, 0, 7],   \n",
    "    [12, 9, 11, 7, 0]])\n",
    "\n",
    "G = nx.from_numpy_array(np.matrix(G), create_using=nx.Graph)\n",
    "\n",
    "path, weight = twiceAroundTheTreeTSP(G)\n",
    "print(\"Twice Around the Tree TSP\")\n",
    "print(\"Path: \", path)\n",
    "print(\"Weight: \", weight)\n",
    "print()\n",
    "\n",
    "path, weight = christofidesTSP(G)\n",
    "print(\"Christofides TSP\")\n",
    "print(\"Path: \", path)\n",
    "print(\"Weight: \", weight)\n",
    "print()\n",
    "\n",
    "path, weight = branchAndBoundTSP(G)\n",
    "print(\"Branch and Bound TSP\")\n",
    "print(\"Path: \", path)\n",
    "print(\"Weight: \", weight)\n",
    "\n"
   ]
  },
  {
   "cell_type": "code",
   "execution_count": 45,
   "metadata": {},
   "outputs": [
    {
     "name": "stdout",
     "output_type": "stream",
     "text": [
      "Twice Around The Tree TSP\n",
      "Path:  39\n",
      "Weight:  [0, 1, 10, 12, 13, 6, 2, 3, 9, 4, 5, 14, 7, 11, 8, 0]\n",
      "\n",
      "Christofides TSP\n",
      "Path:  38\n",
      "Weight:  [0, 2, 8, 11, 7, 14, 4, 5, 9, 3, 12, 1, 13, 6, 10, 0]\n",
      "Branch and Bound TSP\n",
      "Path:  21\n",
      "Weight:  [0, 1, 10, 13, 6, 5, 4, 9, 3, 11, 7, 14, 12, 8, 2, 0]\n"
     ]
    }
   ],
   "source": [
    "#random test\n",
    "n = 15\n",
    "G = nx.complete_graph(n)\n",
    "for (u, v, w) in G.edges(data=True):\n",
    "    w['weight'] = np.random.randint(1, 10)\n",
    "path, weight = twiceAroundTheTreeTSP(G)\n",
    "print(\"Twice Around The Tree TSP\")\n",
    "print(\"Path: \", path)\n",
    "print(\"Weight: \", weight)\n",
    "print()\n",
    "\n",
    "path, weight = christofidesTSP(G)\n",
    "print(\"Christofides TSP\")\n",
    "print(\"Path: \", path)\n",
    "print(\"Weight: \", weight)\n",
    "\n",
    "path, weight = branchAndBoundTSP(G)\n",
    "print(\"Branch and Bound TSP\")\n",
    "print(\"Path: \", path)\n",
    "print(\"Weight: \", weight)\n"
   ]
  },
  {
   "cell_type": "code",
   "execution_count": 46,
   "metadata": {},
   "outputs": [
    {
     "name": "stdout",
     "output_type": "stream",
     "text": [
      "Algorithm:  twiceAroundTheTreeTSP\n",
      "Weight:  39\n",
      "Path:  [0, 1, 10, 12, 13, 6, 2, 3, 9, 4, 5, 14, 7, 11, 8, 0]\n",
      "Execution time:  0.06387829780578613\n",
      "Memory usage:  103.4375\n",
      "\n",
      "Algorithm:  christofidesTSP\n",
      "Weight:  38\n",
      "Path:  [0, 2, 8, 11, 7, 14, 4, 5, 9, 3, 12, 1, 13, 6, 10, 0]\n",
      "Execution time:  0.04223132133483887\n",
      "Memory usage:  103.4375\n",
      "\n",
      "Algorithm:  branchAndBoundTSP\n",
      "Weight:  21\n",
      "Path:  [0, 1, 10, 13, 6, 5, 4, 9, 3, 11, 7, 14, 12, 8, 2, 0]\n",
      "Execution time:  1.4978086948394775\n",
      "Memory usage:  103.45703125\n",
      "\n"
     ]
    },
    {
     "data": {
      "text/plain": [
       "((21, [0, 1, 10, 13, 6, 5, 4, 9, 3, 11, 7, 14, 12, 8, 2, 0]),\n",
       " 1.4978086948394775,\n",
       " 103.45703125)"
      ]
     },
     "execution_count": 46,
     "metadata": {},
     "output_type": "execute_result"
    }
   ],
   "source": [
    "import time\n",
    "import numpy as np\n",
    "from memory_profiler import memory_usage\n",
    "\n",
    "def execute_algorithm(algorithm, data):\n",
    "    start_time = time.time()\n",
    "    max_time = 30 * 60  # 30 minutos em segundos\n",
    "\n",
    "    try:\n",
    "        # Executa o algoritmo e mede o uso de memória\n",
    "        mem_usage = memory_usage((algorithm, (data,)))\n",
    "        result = algorithm(data)\n",
    "        end_time = time.time()\n",
    "\n",
    "        execution_time = end_time - start_time\n",
    "        if execution_time > max_time:\n",
    "            raise TimeoutError\n",
    "        \n",
    "        print(\"Algorithm: \", algorithm.__name__)\n",
    "        print(\"Weight: \", result[0])\n",
    "        print(\"Path: \", result[1])\n",
    "        print(\"Execution time: \", execution_time)\n",
    "        print(\"Memory usage: \", np.max(mem_usage))\n",
    "        print()\n",
    "\n",
    "        return result, execution_time, np.max(mem_usage)\n",
    "    except TimeoutError:\n",
    "        return \"NA\", \"NA\", \"NA\"\n",
    "\n",
    "execute_algorithm(twiceAroundTheTreeTSP, G)\n",
    "execute_algorithm(christofidesTSP, G)\n",
    "execute_algorithm(branchAndBoundTSP, G)\n"
   ]
  }
 ],
 "metadata": {
  "kernelspec": {
   "display_name": "Python 3",
   "language": "python",
   "name": "python3"
  },
  "language_info": {
   "codemirror_mode": {
    "name": "ipython",
    "version": 3
   },
   "file_extension": ".py",
   "mimetype": "text/x-python",
   "name": "python",
   "nbconvert_exporter": "python",
   "pygments_lexer": "ipython3",
   "version": "3.8.10"
  },
  "orig_nbformat": 4
 },
 "nbformat": 4,
 "nbformat_minor": 2
}
